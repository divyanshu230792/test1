{
 "cells": [
  {
   "cell_type": "code",
   "execution_count": 1,
   "id": "b630cd3d-0860-4a8d-8cde-8a1a3d756c6a",
   "metadata": {},
   "outputs": [],
   "source": [
    "import pandas as pd"
   ]
  },
  {
   "cell_type": "code",
   "execution_count": 2,
   "id": "60f941ef-28d8-4402-b8a9-7bc80cce8394",
   "metadata": {},
   "outputs": [],
   "source": [
    "df=pd.read_csv('WhatsgoodlyData-6.csv')"
   ]
  },
  {
   "cell_type": "code",
   "execution_count": 3,
   "id": "02200233-fba2-429c-87a7-d5b29e218a0e",
   "metadata": {},
   "outputs": [
    {
     "name": "stdout",
     "output_type": "stream",
     "text": [
      "<class 'pandas.core.frame.DataFrame'>\n",
      "RangeIndex: 1450 entries, 0 to 1449\n",
      "Data columns (total 7 columns):\n",
      " #   Column               Non-Null Count  Dtype  \n",
      "---  ------               --------------  -----  \n",
      " 0   index                1450 non-null   int64  \n",
      " 1   Question             1450 non-null   object \n",
      " 2   Segment Type         1450 non-null   object \n",
      " 3   Segment Description  1450 non-null   object \n",
      " 4   Answer               1160 non-null   object \n",
      " 5   Count                1450 non-null   int64  \n",
      " 6   Percentage           1450 non-null   float64\n",
      "dtypes: float64(1), int64(2), object(4)\n",
      "memory usage: 79.4+ KB\n"
     ]
    }
   ],
   "source": [
    "df.info()"
   ]
  },
  {
   "cell_type": "code",
   "execution_count": 10,
   "id": "78b56616-6323-4407-a8ef-b455fb1619d0",
   "metadata": {},
   "outputs": [
    {
     "name": "stderr",
     "output_type": "stream",
     "text": [
      "C:\\Users\\Administrator\\AppData\\Local\\Temp\\ipykernel_10044\\814738141.py:2: FutureWarning: A value is trying to be set on a copy of a DataFrame or Series through chained assignment using an inplace method.\n",
      "The behavior will change in pandas 3.0. This inplace method will never work because the intermediate object on which we are setting values always behaves as a copy.\n",
      "\n",
      "For example, when doing 'df[col].method(value, inplace=True)', try using 'df.method({col: value}, inplace=True)' or df[col] = df[col].method(value) instead, to perform the operation inplace on the original object.\n",
      "\n",
      "\n",
      "  df['Answer'].fillna('missing_value',inplace=True)\n"
     ]
    }
   ],
   "source": [
    "# df=df.drop(['index','Question'],axis=1)\n",
    "df['Answer'].fillna('missing_value',inplace=True)\n"
   ]
  },
  {
   "cell_type": "code",
   "execution_count": 12,
   "id": "c18a9a8c-fc02-4587-aa19-b975a9be0821",
   "metadata": {},
   "outputs": [
    {
     "name": "stdout",
     "output_type": "stream",
     "text": [
      "<class 'pandas.core.frame.DataFrame'>\n",
      "RangeIndex: 1450 entries, 0 to 1449\n",
      "Data columns (total 5 columns):\n",
      " #   Column               Non-Null Count  Dtype  \n",
      "---  ------               --------------  -----  \n",
      " 0   Segment Type         1450 non-null   object \n",
      " 1   Segment Description  1450 non-null   object \n",
      " 2   Answer               1450 non-null   object \n",
      " 3   Count                1450 non-null   int64  \n",
      " 4   Percentage           1450 non-null   float64\n",
      "dtypes: float64(1), int64(1), object(3)\n",
      "memory usage: 56.8+ KB\n"
     ]
    }
   ],
   "source": [
    "df.info()"
   ]
  },
  {
   "cell_type": "code",
   "execution_count": 18,
   "id": "59cac63a-682f-4406-9302-bbb8560c99cf",
   "metadata": {},
   "outputs": [
    {
     "data": {
      "text/html": [
       "<div>\n",
       "<style scoped>\n",
       "    .dataframe tbody tr th:only-of-type {\n",
       "        vertical-align: middle;\n",
       "    }\n",
       "\n",
       "    .dataframe tbody tr th {\n",
       "        vertical-align: top;\n",
       "    }\n",
       "\n",
       "    .dataframe thead th {\n",
       "        text-align: right;\n",
       "    }\n",
       "</style>\n",
       "<table border=\"1\" class=\"dataframe\">\n",
       "  <thead>\n",
       "    <tr style=\"text-align: right;\">\n",
       "      <th></th>\n",
       "      <th>Segment_Type</th>\n",
       "      <th>Segment_Description</th>\n",
       "      <th>Answer</th>\n",
       "      <th>Count</th>\n",
       "      <th>Percentage</th>\n",
       "    </tr>\n",
       "  </thead>\n",
       "  <tbody>\n",
       "    <tr>\n",
       "      <th>0</th>\n",
       "      <td>Mobile</td>\n",
       "      <td>Global results</td>\n",
       "      <td>Facebook</td>\n",
       "      <td>548</td>\n",
       "      <td>0.205</td>\n",
       "    </tr>\n",
       "    <tr>\n",
       "      <th>1</th>\n",
       "      <td>Mobile</td>\n",
       "      <td>Global results</td>\n",
       "      <td>Instagram</td>\n",
       "      <td>916</td>\n",
       "      <td>0.342</td>\n",
       "    </tr>\n",
       "    <tr>\n",
       "      <th>2</th>\n",
       "      <td>Mobile</td>\n",
       "      <td>Global results</td>\n",
       "      <td>Snapchat</td>\n",
       "      <td>86</td>\n",
       "      <td>0.032</td>\n",
       "    </tr>\n",
       "    <tr>\n",
       "      <th>3</th>\n",
       "      <td>Mobile</td>\n",
       "      <td>Global results</td>\n",
       "      <td>Twitter</td>\n",
       "      <td>179</td>\n",
       "      <td>0.067</td>\n",
       "    </tr>\n",
       "    <tr>\n",
       "      <th>4</th>\n",
       "      <td>Mobile</td>\n",
       "      <td>Global results</td>\n",
       "      <td>missing_value</td>\n",
       "      <td>947</td>\n",
       "      <td>0.354</td>\n",
       "    </tr>\n",
       "    <tr>\n",
       "      <th>...</th>\n",
       "      <td>...</td>\n",
       "      <td>...</td>\n",
       "      <td>...</td>\n",
       "      <td>...</td>\n",
       "      <td>...</td>\n",
       "    </tr>\n",
       "    <tr>\n",
       "      <th>1445</th>\n",
       "      <td>Custom</td>\n",
       "      <td>Sexual orientation? Straight</td>\n",
       "      <td>Facebook</td>\n",
       "      <td>215</td>\n",
       "      <td>0.180</td>\n",
       "    </tr>\n",
       "    <tr>\n",
       "      <th>1446</th>\n",
       "      <td>Custom</td>\n",
       "      <td>Sexual orientation? Straight</td>\n",
       "      <td>Instagram</td>\n",
       "      <td>354</td>\n",
       "      <td>0.297</td>\n",
       "    </tr>\n",
       "    <tr>\n",
       "      <th>1447</th>\n",
       "      <td>Custom</td>\n",
       "      <td>Sexual orientation? Straight</td>\n",
       "      <td>Snapchat</td>\n",
       "      <td>44</td>\n",
       "      <td>0.037</td>\n",
       "    </tr>\n",
       "    <tr>\n",
       "      <th>1448</th>\n",
       "      <td>Custom</td>\n",
       "      <td>Sexual orientation? Straight</td>\n",
       "      <td>Twitter</td>\n",
       "      <td>88</td>\n",
       "      <td>0.074</td>\n",
       "    </tr>\n",
       "    <tr>\n",
       "      <th>1449</th>\n",
       "      <td>Custom</td>\n",
       "      <td>Sexual orientation? Straight</td>\n",
       "      <td>missing_value</td>\n",
       "      <td>492</td>\n",
       "      <td>0.412</td>\n",
       "    </tr>\n",
       "  </tbody>\n",
       "</table>\n",
       "<p>1450 rows × 5 columns</p>\n",
       "</div>"
      ],
      "text/plain": [
       "     Segment_Type           Segment_Description         Answer  Count  \\\n",
       "0          Mobile                Global results       Facebook    548   \n",
       "1          Mobile                Global results      Instagram    916   \n",
       "2          Mobile                Global results       Snapchat     86   \n",
       "3          Mobile                Global results        Twitter    179   \n",
       "4          Mobile                Global results  missing_value    947   \n",
       "...           ...                           ...            ...    ...   \n",
       "1445       Custom  Sexual orientation? Straight       Facebook    215   \n",
       "1446       Custom  Sexual orientation? Straight      Instagram    354   \n",
       "1447       Custom  Sexual orientation? Straight       Snapchat     44   \n",
       "1448       Custom  Sexual orientation? Straight        Twitter     88   \n",
       "1449       Custom  Sexual orientation? Straight  missing_value    492   \n",
       "\n",
       "      Percentage  \n",
       "0          0.205  \n",
       "1          0.342  \n",
       "2          0.032  \n",
       "3          0.067  \n",
       "4          0.354  \n",
       "...          ...  \n",
       "1445       0.180  \n",
       "1446       0.297  \n",
       "1447       0.037  \n",
       "1448       0.074  \n",
       "1449       0.412  \n",
       "\n",
       "[1450 rows x 5 columns]"
      ]
     },
     "execution_count": 18,
     "metadata": {},
     "output_type": "execute_result"
    }
   ],
   "source": [
    "df.rename({\"Segment_Type\":'Segment_Type',\"Segment Description\":'Segment_Description'},axis=1,inplace=True)\n",
    "df\n"
   ]
  },
  {
   "cell_type": "code",
   "execution_count": 19,
   "id": "067b4c5c-51e5-484a-8cea-16946ff7f88d",
   "metadata": {},
   "outputs": [
    {
     "data": {
      "text/plain": [
       "Segment_Type\n",
       "University    870\n",
       "Custom        560\n",
       "Gender         10\n",
       "Mobile          5\n",
       "Web             5\n",
       "Name: count, dtype: int64"
      ]
     },
     "execution_count": 19,
     "metadata": {},
     "output_type": "execute_result"
    }
   ],
   "source": [
    "df['Segment_Type'].value_counts()"
   ]
  },
  {
   "cell_type": "code",
   "execution_count": 20,
   "id": "9797a7a6-a563-4435-80a0-3cea0608c06e",
   "metadata": {},
   "outputs": [
    {
     "data": {
      "text/plain": [
       "Segment_Description\n",
       "What's your major? Other                     10\n",
       "Web                                           5\n",
       "I'm in? Post-grad                             5\n",
       "have a job? No, but I'm searching for one     5\n",
       "Mac or PC? PC 💻                               5\n",
       "                                             ..\n",
       "University of Memphis                         5\n",
       "Auburn University                             5\n",
       "Randolph-Macon College                        5\n",
       "Wisconsin HS                                  5\n",
       "What's your major? Comp sci                   5\n",
       "Name: count, Length: 289, dtype: int64"
      ]
     },
     "execution_count": 20,
     "metadata": {},
     "output_type": "execute_result"
    }
   ],
   "source": [
    "df['Segment_Description'].value_counts()"
   ]
  },
  {
   "cell_type": "code",
   "execution_count": null,
   "id": "ebd85c8f-5f8a-4ec2-862a-370b1555e7e9",
   "metadata": {},
   "outputs": [],
   "source": []
  }
 ],
 "metadata": {
  "kernelspec": {
   "display_name": "Python 3 (ipykernel)",
   "language": "python",
   "name": "python3"
  },
  "language_info": {
   "codemirror_mode": {
    "name": "ipython",
    "version": 3
   },
   "file_extension": ".py",
   "mimetype": "text/x-python",
   "name": "python",
   "nbconvert_exporter": "python",
   "pygments_lexer": "ipython3",
   "version": "3.12.3"
  }
 },
 "nbformat": 4,
 "nbformat_minor": 5
}
